{
  "nbformat": 4,
  "nbformat_minor": 0,
  "metadata": {
    "colab": {
      "name": "Week14_4-Quiz-STSP.ipynb",
      "provenance": []
    },
    "kernelspec": {
      "name": "python3",
      "display_name": "Python 3"
    }
  },
  "cells": [
    {
      "cell_type": "markdown",
      "metadata": {
        "id": "nUpP3BiOqnaV",
        "colab_type": "text"
      },
      "source": [
        "# Quiz"
      ]
    },
    {
      "cell_type": "markdown",
      "metadata": {
        "id": "VYQAw0LQqo_l",
        "colab_type": "text"
      },
      "source": [
        "Q1. What is a windowed dataset?\n",
        "\n",
        "Ans. A Fixed-size subset of time series\n",
        "\n",
        "Q2. What does ‘drop_remainder=true’ do?\n",
        "\n",
        "Ans. It ensures that all rows in the data window are the same length by cropping data\n",
        "\n",
        "Q3. What’s the correct line of code to split an n column window into n-1 columns for features and 1 column for a label\n",
        "\n",
        "Ans. dataset = dataset.map(lambda window: (window[:-1], window[-1:]))\n",
        "\n",
        "Q4. What does MSE stand for?\n",
        "\n",
        "Ans. Mean Squared Error\n",
        "\n",
        "Q5. What does MAE stand for?\n",
        "\n",
        "Ans. Mean Absolute Error\n",
        "\n",
        "Q6. If time values are in time[], series values are in series[] and we want to split the series into training and validation at time 1000, what is the correct code?\n",
        "\n",
        "Ans.\n",
        "time_train = time[:split_time]\n",
        "\n",
        "x_train = series[:split_time]\n",
        "\n",
        "time_valid = time[split_time:]\n",
        "\n",
        "x_valid = series[split_time:]\n",
        "\n",
        "Q7. If you want to inspect the learned parameters in a layer after training, what’s a good technique to use?\n",
        "\n",
        "Ans. Assign a variable to the layer and add it to the model using that variable. Inspect its properties after training\n",
        "\n",
        "Q8. How do you set the learning rate of the SGD optimizer? \n",
        "\n",
        "Ans. Use lr Property\n",
        "\n",
        "Q9. If you want to amend the learning rate of the optimizer on the fly, after each epoch, what do you do?\n",
        "\n",
        "Ans. Use a LearningRateScheduler object in the callbacks namespace and assign that to the callback"
      ]
    }
  ]
}