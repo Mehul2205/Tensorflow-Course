{
  "nbformat": 4,
  "nbformat_minor": 0,
  "metadata": {
    "colab": {
      "name": "Week5-CNN_In_Tensorflow.ipynb",
      "provenance": [],
      "authorship_tag": "ABX9TyP/VAaw0fPHFKOtGyPT/U81",
      "include_colab_link": true
    },
    "kernelspec": {
      "name": "python3",
      "display_name": "Python 3"
    }
  },
  "cells": [
    {
      "cell_type": "markdown",
      "metadata": {
        "id": "view-in-github",
        "colab_type": "text"
      },
      "source": [
        "<a href=\"https://colab.research.google.com/github/Mehul2205/Tensorflow-Course/blob/master/Week5_CNN_In_Tensorflow.ipynb\" target=\"_parent\"><img src=\"https://colab.research.google.com/assets/colab-badge.svg\" alt=\"Open In Colab\"/></a>"
      ]
    },
    {
      "cell_type": "markdown",
      "metadata": {
        "id": "YKSH25LQWGyK",
        "colab_type": "text"
      },
      "source": [
        "# Quiz"
      ]
    },
    {
      "cell_type": "markdown",
      "metadata": {
        "id": "qGWHCRXbJpCv",
        "colab_type": "text"
      },
      "source": [
        "Q1. What does flow_from_directory give you on the ImageGenerator?\n",
        "\n",
        "Sol. All of the Above\n",
        "\n",
        "Q1. If my Image is sized 150x150, and I pass a 3x3 Convolution over it, what size is the resulting image?\n",
        "\n",
        "Sol. 148 * 148\n",
        "\n",
        "Q1. If my data is sized 150x150, and I use Pooling of size 2x2, what size will the resulting image be?\n",
        "\n",
        "Sol. 75 * 75\n",
        "\n",
        "Q1. If I want to view the history of my training, how can I access it?\n",
        "\n",
        "Sol. Create a variable ‘history’ and assign it to the return of model.fit or model.fit_generator\n",
        "\n",
        "Q1. What’s the name of the API that allows you to inspect the impact of convolutions on the images?\n",
        "\n",
        "Sol. The model.layers API\n",
        "\n",
        "Q1. When exploring the graphs, the loss levelled out at about .75 after 2 epochs, but the accuracy climbed close to 1.0 after 15 epochs. What's the significance of this?\n",
        "\n",
        "Sol. There was no point training after 2 epochs, as we overfit to the training data\n",
        "\n",
        "Q1. Why is the validation accuracy a better indicator of model performance than training accuracy?\n",
        "\n",
        "Sol. The validation accuracy is based on images that the model hasn't been trained with, and thus a better indicator of how the model will perform with new images.\n",
        "\n",
        "Q1. Why is overfitting more likely to occur on smaller datasets?\n",
        "\n",
        "Sol. Because there's less likelihood of all possible features being encountered in the training process."
      ]
    }
  ]
}