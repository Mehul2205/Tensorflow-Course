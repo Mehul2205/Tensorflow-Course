{
  "nbformat": 4,
  "nbformat_minor": 0,
  "metadata": {
    "colab": {
      "name": "Week15_3-Quiz-STSP.ipynb",
      "provenance": [],
      "collapsed_sections": []
    },
    "kernelspec": {
      "name": "python3",
      "display_name": "Python 3"
    }
  },
  "cells": [
    {
      "cell_type": "markdown",
      "metadata": {
        "id": "drwaEq3V6F_J",
        "colab_type": "text"
      },
      "source": [
        "# Quiz"
      ]
    },
    {
      "cell_type": "markdown",
      "metadata": {
        "id": "M6QVjYCd6IkL",
        "colab_type": "text"
      },
      "source": [
        "Q1. If X is the standard notation for the input to an RNN, what are the standard notations for the outputs?\n",
        "\n",
        "Ans. Y(hat) and H\n",
        "\n",
        "Q2. What is a sequence to vector if an RNN has 30 cells numbered 0 to 29\n",
        "\n",
        "Ans. The Y(hat) for the last cell\n",
        "\n",
        "Q3. What does a Lambda layer in a neural network do?\n",
        "\n",
        "Ans. Allows you to execute the arbitrary code while training\n",
        "\n",
        "Q4. What does the axis parameter of tf.expand_dims do?\n",
        "\n",
        "Ans. Defines the dimension index at which you will expand the shape of the tensor\n",
        "\n",
        "Q5. A new loss function was introduced in this module, named after a famous statistician. What is it called?\n",
        "\n",
        "Ans. Huber Loss\n",
        "\n",
        "Q6. What’s the primary difference between a simple RNN and an LSTM\n",
        "\n",
        "Ans. In addition to the H output, LSTMs have a cell state that runs across all cells\n",
        "\n",
        "Q7. If you want to clear out all temporary variables that tensorflow might have from previous sessions, what code do you run?\n",
        "\n",
        "Ans. tf.keras.backend.clear_session() \n",
        "\n",
        "Q8. What happens if you define a neural network with these two layers?\n",
        "\n",
        "Ans. Your model will fail because you need return_sequences=True after the first LSTM layer.\n"
      ]
    },
    {
      "cell_type": "code",
      "metadata": {
        "id": "7MjGBO7C6D_B",
        "colab_type": "code",
        "colab": {}
      },
      "source": [
        ""
      ],
      "execution_count": null,
      "outputs": []
    }
  ]
}