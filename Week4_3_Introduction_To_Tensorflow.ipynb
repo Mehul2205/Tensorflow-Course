{
  "nbformat": 4,
  "nbformat_minor": 0,
  "metadata": {
    "colab": {
      "name": "Week4_3-Introduction_To_Tensorflow.ipynb",
      "provenance": [],
      "authorship_tag": "ABX9TyOoOv1kzSQziwXR4As2TdPL",
      "include_colab_link": true
    },
    "kernelspec": {
      "name": "python3",
      "display_name": "Python 3"
    }
  },
  "cells": [
    {
      "cell_type": "markdown",
      "metadata": {
        "id": "view-in-github",
        "colab_type": "text"
      },
      "source": [
        "<a href=\"https://colab.research.google.com/github/Mehul2205/Tensorflow-Course/blob/master/Week4_3_Introduction_To_Tensorflow.ipynb\" target=\"_parent\"><img src=\"https://colab.research.google.com/assets/colab-badge.svg\" alt=\"Open In Colab\"/></a>"
      ]
    },
    {
      "cell_type": "code",
      "metadata": {
        "id": "B8XSc18zutAX",
        "colab_type": "code",
        "colab": {}
      },
      "source": [
        ""
      ],
      "execution_count": 0,
      "outputs": []
    },
    {
      "cell_type": "markdown",
      "metadata": {
        "id": "ScFyaG1yvlZn",
        "colab_type": "text"
      },
      "source": [
        "# Quiz"
      ]
    },
    {
      "cell_type": "markdown",
      "metadata": {
        "id": "qsz6NH1SvnxY",
        "colab_type": "text"
      },
      "source": [
        "Q1. Using Image Generator, how do you label images?\n",
        "\n",
        "Sol. It’s based on the directory the image is contained in\n",
        "\n",
        "Q2. What method on the Image Generator is used to normalize the image?\n",
        "\n",
        "Sol. Rescale\n",
        "\n",
        "Q3. How did we specify the training size for the images?\n",
        "\n",
        "Sol. The target_size parameter on the training generator\n",
        "\n",
        "Q4. When we specify the input_shape to be (300, 300, 3), what does that mean?\n",
        "\n",
        "Sol. Every Image will be 300x300 pixels, with 3 bytes to define color\n",
        "\n",
        "Q5. If your training data is close to 1.000 accuracy, but your validation data isn’t, what’s the risk here?\n",
        "\n",
        "Sol. You’re overfitting on your training data\n",
        "\n",
        "Q6. Convolutional Neural Networks are better for classifying images like horses and humans because:\n",
        "\n",
        "Sol. In these images, the features may be in different parts of the frame\n",
        "\n",
        "Q7. After reducing the size of the images, the training results were different. Why?\n",
        "\n",
        "Sol. We removed some convolutions to handle the smaller images"
      ]
    }
  ]
}