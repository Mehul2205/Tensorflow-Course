{
  "nbformat": 4,
  "nbformat_minor": 0,
  "metadata": {
    "colab": {
      "name": "Week9-NLP_In_Tensorlflow.ipynb",
      "provenance": [],
      "collapsed_sections": [],
      "authorship_tag": "ABX9TyM671Zn4QojrN5tCGsM5aly",
      "include_colab_link": true
    },
    "kernelspec": {
      "name": "python3",
      "display_name": "Python 3"
    }
  },
  "cells": [
    {
      "cell_type": "markdown",
      "metadata": {
        "id": "view-in-github",
        "colab_type": "text"
      },
      "source": [
        "<a href=\"https://colab.research.google.com/github/Mehul2205/Tensorflow-Course/blob/master/Week9_NLP_In_Tensorlflow.ipynb\" target=\"_parent\"><img src=\"https://colab.research.google.com/assets/colab-badge.svg\" alt=\"Open In Colab\"/></a>"
      ]
    },
    {
      "cell_type": "markdown",
      "metadata": {
        "id": "ij-uUGJBpMym",
        "colab_type": "text"
      },
      "source": [
        "# Code"
      ]
    },
    {
      "cell_type": "code",
      "metadata": {
        "id": "CVhru2UpPQgI",
        "colab_type": "code",
        "colab": {}
      },
      "source": [
        "!wget --no-check-certificate \\\n",
        "    https://storage.googleapis.com/laurencemoroney-blog.appspot.com/sarcasm.json \\\n",
        "    -O /tmp/sarcasm.json\n",
        "  \n",
        "import json\n",
        "\n",
        "with open(\"/tmp/sarcasm.json\", 'r') as f:\n",
        "    datastore = json.load(f)\n",
        "\n",
        "\n",
        "sentences = [] \n",
        "labels = []\n",
        "urls = []\n",
        "for item in datastore:\n",
        "    sentences.append(item['headline'])\n",
        "    labels.append(item['is_sarcastic'])\n",
        "    urls.append(item['article_link'])\n",
        "\n",
        "\n",
        "\n",
        "from tensorflow.keras.preprocessing.text import Tokenizer\n",
        "from tensorflow.keras.preprocessing.sequence import pad_sequences\n",
        "tokenizer = Tokenizer(oov_token=\"<OOV>\")\n",
        "tokenizer.fit_on_texts(sentences)\n",
        "\n",
        "word_index = tokenizer.word_index\n",
        "print(len(word_index))\n",
        "print(word_index)\n",
        "sequences = tokenizer.texts_to_sequences(sentences)\n",
        "padded = pad_sequences(sequences, padding='post')\n",
        "print(padded[0])\n",
        "print(padded.shape)"
      ],
      "execution_count": 0,
      "outputs": []
    },
    {
      "cell_type": "markdown",
      "metadata": {
        "id": "UvIlGt7WPYcQ",
        "colab_type": "text"
      },
      "source": [
        "# Quiz"
      ]
    },
    {
      "cell_type": "markdown",
      "metadata": {
        "id": "nCpazYtEPj61",
        "colab_type": "text"
      },
      "source": [
        "Q1. What is the name of the object used to tokenize sentences?\n",
        "\n",
        "Sol. Tokenizer\n",
        "\n",
        "Q2. What is the name of the method used to tokenize a list of sentences?\n",
        "\n",
        "Sol. fit_on_texts\n",
        "\n",
        "Q3. Once you have the corpus tokenized, what’s the method used to encode a list of sentences to use those tokens?\n",
        "\n",
        "Sol. texts_to_sequences\n",
        "\n",
        "Q4. When initializing the tokenizer, how to you specify a token to use for unknown words?\n",
        "\n",
        "Sol. oov_token= token\n",
        "\n",
        "Q5. If you don’t use a token for out of vocabulary words, what happens at encoding?\n",
        "\n",
        "Sol. The word isn’t encoded, and is skipped in the sequence\n",
        "\n",
        "Q6. If you have a number of sequences of different lengths, how do you ensure that they are understood when fed into a neural network?\n",
        "\n",
        "Sol. Use the pad_sequences object from the tensorflow.keras.preprocessing.sequence namespace\n",
        "\n",
        "Q7. If you have a number of sequences of different length, and call pad_sequences on them, what’s the default result?\n",
        "\n",
        "Sol. They’ll get padded to the length of the longest sequence by adding zeros to the beginning of shorter ones\n",
        "\n",
        "Q8. When padding sequences, if you want the padding to be at the end of the sequence, how do you do it?\n",
        "\n",
        "Sol. Pass padding=’post’ to pad_sequences when initializing it"
      ]
    }
  ]
}