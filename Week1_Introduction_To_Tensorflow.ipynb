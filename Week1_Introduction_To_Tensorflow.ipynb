{
  "nbformat": 4,
  "nbformat_minor": 0,
  "metadata": {
    "colab": {
      "name": "Week1-Introduction_To_Tensorflow.ipynb",
      "provenance": [],
      "authorship_tag": "ABX9TyOKlq/iEf4AHcT0LlMaTDZp",
      "include_colab_link": true
    },
    "kernelspec": {
      "name": "python3",
      "display_name": "Python 3"
    }
  },
  "cells": [
    {
      "cell_type": "markdown",
      "metadata": {
        "id": "view-in-github",
        "colab_type": "text"
      },
      "source": [
        "<a href=\"https://colab.research.google.com/github/Mehul2205/Tensorflow-Course/blob/master/Week1_Introduction_To_Tensorflow.ipynb\" target=\"_parent\"><img src=\"https://colab.research.google.com/assets/colab-badge.svg\" alt=\"Open In Colab\"/></a>"
      ]
    },
    {
      "cell_type": "markdown",
      "metadata": {
        "id": "UWaapfOHgWak",
        "colab_type": "text"
      },
      "source": [
        "# The Hello World of Deep Learning with Neural Networks"
      ]
    },
    {
      "cell_type": "code",
      "metadata": {
        "id": "SB1MX2UrgHv_",
        "colab_type": "code",
        "colab": {}
      },
      "source": [
        "def hw_function(x):\n",
        "    y = (2 * x) - 1;\n",
        "    return y"
      ],
      "execution_count": 0,
      "outputs": []
    },
    {
      "cell_type": "markdown",
      "metadata": {
        "id": "YdyD547Zgscr",
        "colab_type": "text"
      },
      "source": [
        "So how would you train a neural network to do the equivalent task? Using data! By feeding it with a set of Xs, and a set of Ys, it should be able to figure out the relationship between them. \n",
        "\n",
        "This is obviously a very different paradigm than what you might be used to, so let's step through it piece by piece."
      ]
    },
    {
      "cell_type": "markdown",
      "metadata": {
        "id": "NakQqlV6g9q2",
        "colab_type": "text"
      },
      "source": [
        "# Imports"
      ]
    },
    {
      "cell_type": "code",
      "metadata": {
        "id": "Sf24X-B3hEWK",
        "colab_type": "code",
        "colab": {}
      },
      "source": [
        "import tensorflow as tf\n",
        "import numpy as np\n",
        "from tensorflow import keras"
      ],
      "execution_count": 0,
      "outputs": []
    },
    {
      "cell_type": "markdown",
      "metadata": {
        "id": "v27ugNblhYIr",
        "colab_type": "text"
      },
      "source": [
        "# Define and Compile the Neural Network\n",
        "Next we will create the simplest possible neural network. It has 1 layer, and that layer has 1 neuron, and the input shape to it is just 1 value."
      ]
    },
    {
      "cell_type": "code",
      "metadata": {
        "id": "mamGl4yrhbB8",
        "colab_type": "code",
        "colab": {}
      },
      "source": [
        "model = tf.keras.Sequential([keras.layers.Dense(units=1, input_shape=[1])])"
      ],
      "execution_count": 0,
      "outputs": []
    },
    {
      "cell_type": "markdown",
      "metadata": {
        "id": "FkrW7-K9hswo",
        "colab_type": "text"
      },
      "source": [
        "Now we compile our Neural Network. When we do so, we have to specify 2 functions, a loss and an optimizer.\n",
        "\n",
        "First, here's how we tell it to use 'MEAN SQUARED ERROR' for the loss and 'STOCHASTIC GRADIENT DESCENT' for the optimizer. You don't need to understand the math for these yet, but you can see that they work! :)"
      ]
    },
    {
      "cell_type": "code",
      "metadata": {
        "id": "YoSjlvl2h8L5",
        "colab_type": "code",
        "colab": {}
      },
      "source": [
        "model.compile(optimizer='sgd', loss='mean_squared_error')"
      ],
      "execution_count": 0,
      "outputs": []
    },
    {
      "cell_type": "markdown",
      "metadata": {
        "id": "ApVIVyu1iDZ8",
        "colab_type": "text"
      },
      "source": [
        "# Providing the Data\n",
        "\n",
        "A python library called 'Numpy' provides lots of array type data structures that are a defacto standard way of doing it. We declare that we want to use these by specifying the values as an np.array[]"
      ]
    },
    {
      "cell_type": "code",
      "metadata": {
        "id": "b8_t7dCEiGqi",
        "colab_type": "code",
        "colab": {}
      },
      "source": [
        "xs = np.array([-1.0,  0.0, 1.0, 2.0, 3.0, 4.0], dtype=float)\n",
        "ys = np.array([-3.0, -1.0, 1.0, 3.0, 5.0, 7.0], dtype=float)"
      ],
      "execution_count": 0,
      "outputs": []
    },
    {
      "cell_type": "markdown",
      "metadata": {
        "id": "Fc2AQdyDiUpP",
        "colab_type": "text"
      },
      "source": [
        "# Training the Neural Network\n",
        "\n",
        "The process of training the neural network, where it 'learns' the relationship between the Xs and Ys is in the model.fit call. This is where it will go through the loop we spoke about above, making a guess, measuring how good or bad it is (aka the loss), using the opimizer to make another guess etc. It will do it for the number of epochs you specify. When you run this code, you'll see the loss on the right hand side."
      ]
    },
    {
      "cell_type": "code",
      "metadata": {
        "id": "eFzLC5Ueii4l",
        "colab_type": "code",
        "colab": {}
      },
      "source": [
        "model.fit(xs, ys, epochs=500)"
      ],
      "execution_count": 0,
      "outputs": []
    },
    {
      "cell_type": "markdown",
      "metadata": {
        "id": "Kme14dvyioAR",
        "colab_type": "text"
      },
      "source": [
        "Ok, now you have a model that has been trained to learn the relationshop between X and Y. You can use the model.predict method to have it figure out the Y for a previously unknown X. So, for example, if X = 10, what do you think Y will be? Take a guess before you run this code:"
      ]
    },
    {
      "cell_type": "code",
      "metadata": {
        "id": "JlTNHGT_iplZ",
        "colab_type": "code",
        "colab": {
          "base_uri": "https://localhost:8080/",
          "height": 35
        },
        "outputId": "d4d2ae0f-a006-4e5a-bb7b-0feffda2307e"
      },
      "source": [
        "print(model.predict([10.0]))"
      ],
      "execution_count": 9,
      "outputs": [
        {
          "output_type": "stream",
          "text": [
            "[[18.982948]]\n"
          ],
          "name": "stdout"
        }
      ]
    },
    {
      "cell_type": "markdown",
      "metadata": {
        "id": "UPzfcnPwisKS",
        "colab_type": "text"
      },
      "source": [
        "Remember that neural networks deal with probabilities, so given the data that we fed the NN with, it calculated that there is a very high probability that the relationship between X and Y is Y=2X-1, but with only 6 data points we can't know for sure. As a result, the result for 10 is very close to 19, but not necessarily 19.\n",
        "\n",
        "As you work with neural networks, you'll see this pattern recurring. You will almost always deal with probabilities, not certainties, and will do a little bit of coding to figure out what the result is based on the probabilities, particularly when it comes to classification."
      ]
    },
    {
      "cell_type": "markdown",
      "metadata": {
        "id": "2H_r61EXjNxU",
        "colab_type": "text"
      },
      "source": [
        "# Week 1 Quiz Solution\n",
        "\n",
        "Q1. The diagram for traditional programming had Rules and Data In, but what came out?\n",
        "\n",
        "Sol. Answers\n",
        "\n",
        "Q2. The diagram for Machine Learning had Answers and Data In, but what came out?\n",
        "\n",
        "Sol. Rules\n",
        "\n",
        "Q3. When I tell a computer what the data represents (i.e. this data is for walking, this data is for running), what is that process called?\n",
        "\n",
        "Sol. Labelling the Data\n",
        "\n",
        "Q4. What is a Dense?\n",
        "\n",
        "Sol. A layer of connected neurons\n",
        "\n",
        "Q5. What does a Loss function do?\n",
        "\n",
        "Sol. Measures how good the current ‘guess’ is\n",
        "\n",
        "Q6. What does the optimizer do?\n",
        "\n",
        "Sol. Generates a new and improved guess\n",
        "\n",
        "Q7. What is Convergence?\n",
        "\n",
        "Sol. The process of getting very close to the correct answer\n",
        "\n",
        "Q8. What does model.fit do?\n",
        "\n",
        "Sol. It trains the neural network to fit one set of values to another\n"
      ]
    },
    {
      "cell_type": "markdown",
      "metadata": {
        "id": "N_w1EuyusjFH",
        "colab_type": "text"
      },
      "source": [
        "# Coding Assignemnt\n",
        "\n",
        "In this exercise you'll try to build a neural network that predicts the price of a house according to a simple formula.\n",
        "\n",
        "So, imagine if house pricing was as easy as a house costs 50k + 50k per bedroom, so that a 1 bedroom house costs 100k, a 2 bedroom house costs 150k etc.\n",
        "\n",
        "How would you create a neural network that learns this relationship so that it would predict a 7 bedroom house as costing close to 400k etc.\n",
        "\n",
        "Hint: Your network might work better if you scale the house price down. You don't have to give the answer 400...it might be better to create something that predicts the number 4, and then your answer is in the 'hundreds of thousands' etc."
      ]
    },
    {
      "cell_type": "code",
      "metadata": {
        "id": "TGSJ2dQmsrkb",
        "colab_type": "code",
        "colab": {}
      },
      "source": [
        "model = tf.keras.Sequential([keras.layers.Dense(units=1, input_shape=[1])])\n",
        "model.compile(optimizer='sgd', loss='mean_squared_error')\n",
        "xs = np.array([1.0, 2.0, 3.0, 4.0, 5.0, 6.0], dtype=float)\n",
        "ys = np.array([1.0, 1.5, 2.0, 2.5, 3.0, 3.5], dtype=float)\n",
        "model.fit(xs, ys, epochs=500)\n",
        "print(model.predict([7.0])*100*1000)"
      ],
      "execution_count": 0,
      "outputs": []
    }
  ]
}